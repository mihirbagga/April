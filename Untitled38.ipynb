{
  "nbformat": 4,
  "nbformat_minor": 0,
  "metadata": {
    "colab": {
      "name": "Untitled38.ipynb",
      "provenance": [],
      "collapsed_sections": [],
      "authorship_tag": "ABX9TyOtA4Y5w+clsUF6plBhL//A",
      "include_colab_link": true
    },
    "kernelspec": {
      "name": "python3",
      "display_name": "Python 3"
    },
    "language_info": {
      "name": "python"
    }
  },
  "cells": [
    {
      "cell_type": "markdown",
      "metadata": {
        "id": "view-in-github",
        "colab_type": "text"
      },
      "source": [
        "<a href=\"https://colab.research.google.com/github/mihirbagga/April/blob/main/Untitled38.ipynb\" target=\"_parent\"><img src=\"https://colab.research.google.com/assets/colab-badge.svg\" alt=\"Open In Colab\"/></a>"
      ]
    },
    {
      "cell_type": "code",
      "metadata": {
        "colab": {
          "base_uri": "https://localhost:8080/"
        },
        "id": "iloTcdMtVTFh",
        "outputId": "94c4d969-760c-4b36-d489-120de3d51507"
      },
      "source": [
        "!pip install Office365-REST-Python-Client"
      ],
      "execution_count": null,
      "outputs": [
        {
          "output_type": "stream",
          "name": "stdout",
          "text": [
            "Collecting Office365-REST-Python-Client\n",
            "  Downloading Office365_REST_Python_Client-2.3.7-py3-none-any.whl (407 kB)\n",
            "\u001b[K     |████████████████████████████████| 407 kB 7.9 MB/s \n",
            "\u001b[?25hCollecting msal\n",
            "  Downloading msal-1.14.0-py2.py3-none-any.whl (75 kB)\n",
            "\u001b[K     |████████████████████████████████| 75 kB 3.8 MB/s \n",
            "\u001b[?25hRequirement already satisfied: requests in /usr/local/lib/python3.7/dist-packages (from Office365-REST-Python-Client) (2.23.0)\n",
            "Collecting cryptography<4,>=0.6\n",
            "  Downloading cryptography-3.4.8-cp36-abi3-manylinux_2_24_x86_64.whl (3.0 MB)\n",
            "\u001b[K     |████████████████████████████████| 3.0 MB 51.6 MB/s \n",
            "\u001b[?25hCollecting PyJWT[crypto]<3,>=1.0.0\n",
            "  Downloading PyJWT-2.1.0-py3-none-any.whl (16 kB)\n",
            "Requirement already satisfied: cffi>=1.12 in /usr/local/lib/python3.7/dist-packages (from cryptography<4,>=0.6->msal->Office365-REST-Python-Client) (1.14.6)\n",
            "Requirement already satisfied: pycparser in /usr/local/lib/python3.7/dist-packages (from cffi>=1.12->cryptography<4,>=0.6->msal->Office365-REST-Python-Client) (2.20)\n",
            "Requirement already satisfied: certifi>=2017.4.17 in /usr/local/lib/python3.7/dist-packages (from requests->Office365-REST-Python-Client) (2021.5.30)\n",
            "Requirement already satisfied: chardet<4,>=3.0.2 in /usr/local/lib/python3.7/dist-packages (from requests->Office365-REST-Python-Client) (3.0.4)\n",
            "Requirement already satisfied: idna<3,>=2.5 in /usr/local/lib/python3.7/dist-packages (from requests->Office365-REST-Python-Client) (2.10)\n",
            "Requirement already satisfied: urllib3!=1.25.0,!=1.25.1,<1.26,>=1.21.1 in /usr/local/lib/python3.7/dist-packages (from requests->Office365-REST-Python-Client) (1.24.3)\n",
            "Installing collected packages: PyJWT, cryptography, msal, Office365-REST-Python-Client\n",
            "Successfully installed Office365-REST-Python-Client-2.3.7 PyJWT-2.1.0 cryptography-3.4.8 msal-1.14.0\n"
          ]
        }
      ]
    },
    {
      "cell_type": "code",
      "metadata": {
        "colab": {
          "base_uri": "https://localhost:8080/"
        },
        "id": "5EynpAo3XYwU",
        "outputId": "0f0ff211-ec59-46b0-c800-1167934c1940"
      },
      "source": [
        "import json\n",
        "from office365.runtime.auth.user_credential import UserCredential\n",
        "from office365.runtime.http.request_options import RequestOptions\n",
        "from office365.sharepoint.client_context import ClientContext\n",
        "site_url = \"https://mbagga.sharepoint.com/sites/MB/\"\n",
        "ctx = ClientContext(site_url).with_credentials(UserCredential(\"mihir@mbagga.onmicrosoft.com\", \"Bagga707@@\"))\n",
        "request = RequestOptions(\"{0}/_api/web/\".format(site_url))\n",
        "response = ctx.execute_request_direct(request)\n",
        "json = json.loads(response.content)\n",
        "web_title = json['d']['Title']\n",
        "print(json)\n",
        "print(\"Web title: {0}\".format(web_title))"
      ],
      "execution_count": null,
      "outputs": [
        {
          "output_type": "stream",
          "name": "stdout",
          "text": [
            "{'d': {'__metadata': {'id': 'https://mbagga.sharepoint.com/sites/MB/_api/Web', 'uri': 'https://mbagga.sharepoint.com/sites/MB/_api/Web', 'type': 'SP.Web'}, 'FirstUniqueAncestorSecurableObject': {'__deferred': {'uri': 'https://mbagga.sharepoint.com/sites/MB/_api/Web/FirstUniqueAncestorSecurableObject'}}, 'RoleAssignments': {'__deferred': {'uri': 'https://mbagga.sharepoint.com/sites/MB/_api/Web/RoleAssignments'}}, 'AccessRequestsList': {'__deferred': {'uri': 'https://mbagga.sharepoint.com/sites/MB/_api/Web/AccessRequestsList'}}, 'Activities': {'__deferred': {'uri': 'https://mbagga.sharepoint.com/sites/MB/_api/Web/Activities'}}, 'ActivityLogger': {'__deferred': {'uri': 'https://mbagga.sharepoint.com/sites/MB/_api/Web/ActivityLogger'}}, 'Alerts': {'__deferred': {'uri': 'https://mbagga.sharepoint.com/sites/MB/_api/Web/Alerts'}}, 'AllProperties': {'__deferred': {'uri': 'https://mbagga.sharepoint.com/sites/MB/_api/Web/AllProperties'}}, 'AppTiles': {'__deferred': {'uri': 'https://mbagga.sharepoint.com/sites/MB/_api/Web/AppTiles'}}, 'AssociatedMemberGroup': {'__deferred': {'uri': 'https://mbagga.sharepoint.com/sites/MB/_api/Web/AssociatedMemberGroup'}}, 'AssociatedOwnerGroup': {'__deferred': {'uri': 'https://mbagga.sharepoint.com/sites/MB/_api/Web/AssociatedOwnerGroup'}}, 'AssociatedVisitorGroup': {'__deferred': {'uri': 'https://mbagga.sharepoint.com/sites/MB/_api/Web/AssociatedVisitorGroup'}}, 'Author': {'__deferred': {'uri': 'https://mbagga.sharepoint.com/sites/MB/_api/Web/Author'}}, 'AvailableContentTypes': {'__deferred': {'uri': 'https://mbagga.sharepoint.com/sites/MB/_api/Web/AvailableContentTypes'}}, 'AvailableFields': {'__deferred': {'uri': 'https://mbagga.sharepoint.com/sites/MB/_api/Web/AvailableFields'}}, 'CanModernizeHomepage': {'__deferred': {'uri': 'https://mbagga.sharepoint.com/sites/MB/_api/Web/CanModernizeHomepage'}}, 'ClientWebParts': {'__deferred': {'uri': 'https://mbagga.sharepoint.com/sites/MB/_api/Web/ClientWebParts'}}, 'ContentTypes': {'__deferred': {'uri': 'https://mbagga.sharepoint.com/sites/MB/_api/Web/ContentTypes'}}, 'CurrentUser': {'__deferred': {'uri': 'https://mbagga.sharepoint.com/sites/MB/_api/Web/CurrentUser'}}, 'DataLeakagePreventionStatusInfo': {'__deferred': {'uri': 'https://mbagga.sharepoint.com/sites/MB/_api/Web/DataLeakagePreventionStatusInfo'}}, 'DescriptionResource': {'__deferred': {'uri': 'https://mbagga.sharepoint.com/sites/MB/_api/Web/DescriptionResource'}}, 'EventReceivers': {'__deferred': {'uri': 'https://mbagga.sharepoint.com/sites/MB/_api/Web/EventReceivers'}}, 'Features': {'__deferred': {'uri': 'https://mbagga.sharepoint.com/sites/MB/_api/Web/Features'}}, 'Fields': {'__deferred': {'uri': 'https://mbagga.sharepoint.com/sites/MB/_api/Web/Fields'}}, 'Folders': {'__deferred': {'uri': 'https://mbagga.sharepoint.com/sites/MB/_api/Web/Folders'}}, 'HostedApps': {'__deferred': {'uri': 'https://mbagga.sharepoint.com/sites/MB/_api/Web/HostedApps'}}, 'Lists': {'__deferred': {'uri': 'https://mbagga.sharepoint.com/sites/MB/_api/Web/Lists'}}, 'ListTemplates': {'__deferred': {'uri': 'https://mbagga.sharepoint.com/sites/MB/_api/Web/ListTemplates'}}, 'MultilingualSettings': {'__deferred': {'uri': 'https://mbagga.sharepoint.com/sites/MB/_api/Web/MultilingualSettings'}}, 'Navigation': {'__deferred': {'uri': 'https://mbagga.sharepoint.com/sites/MB/_api/Web/Navigation'}}, 'OneDriveSharedItems': {'__deferred': {'uri': 'https://mbagga.sharepoint.com/sites/MB/_api/Web/OneDriveSharedItems'}}, 'ParentWeb': {'__deferred': {'uri': 'https://mbagga.sharepoint.com/sites/MB/_api/Web/ParentWeb'}}, 'PushNotificationSubscribers': {'__deferred': {'uri': 'https://mbagga.sharepoint.com/sites/MB/_api/Web/PushNotificationSubscribers'}}, 'RecycleBin': {'__deferred': {'uri': 'https://mbagga.sharepoint.com/sites/MB/_api/Web/RecycleBin'}}, 'RegionalSettings': {'__deferred': {'uri': 'https://mbagga.sharepoint.com/sites/MB/_api/Web/RegionalSettings'}}, 'RoleDefinitions': {'__deferred': {'uri': 'https://mbagga.sharepoint.com/sites/MB/_api/Web/RoleDefinitions'}}, 'RootFolder': {'__deferred': {'uri': 'https://mbagga.sharepoint.com/sites/MB/_api/Web/RootFolder'}}, 'SiteCollectionAppCatalog': {'__deferred': {'uri': 'https://mbagga.sharepoint.com/sites/MB/_api/Web/SiteCollectionAppCatalog'}}, 'SiteGroups': {'__deferred': {'uri': 'https://mbagga.sharepoint.com/sites/MB/_api/Web/SiteGroups'}}, 'SiteUserInfoList': {'__deferred': {'uri': 'https://mbagga.sharepoint.com/sites/MB/_api/Web/SiteUserInfoList'}}, 'SiteUsers': {'__deferred': {'uri': 'https://mbagga.sharepoint.com/sites/MB/_api/Web/SiteUsers'}}, 'TenantAppCatalog': {'__deferred': {'uri': 'https://mbagga.sharepoint.com/sites/MB/_api/Web/TenantAppCatalog'}}, 'ThemeInfo': {'__deferred': {'uri': 'https://mbagga.sharepoint.com/sites/MB/_api/Web/ThemeInfo'}}, 'TitleResource': {'__deferred': {'uri': 'https://mbagga.sharepoint.com/sites/MB/_api/Web/TitleResource'}}, 'UserCustomActions': {'__deferred': {'uri': 'https://mbagga.sharepoint.com/sites/MB/_api/Web/UserCustomActions'}}, 'Webs': {'__deferred': {'uri': 'https://mbagga.sharepoint.com/sites/MB/_api/Web/Webs'}}, 'WebInfos': {'__deferred': {'uri': 'https://mbagga.sharepoint.com/sites/MB/_api/Web/WebInfos'}}, 'WorkflowAssociations': {'__deferred': {'uri': 'https://mbagga.sharepoint.com/sites/MB/_api/Web/WorkflowAssociations'}}, 'WorkflowTemplates': {'__deferred': {'uri': 'https://mbagga.sharepoint.com/sites/MB/_api/Web/WorkflowTemplates'}}, 'AllowRssFeeds': True, 'AlternateCssUrl': '', 'AppInstanceId': '00000000-0000-0000-0000-000000000000', 'ClassicWelcomePage': None, 'Configuration': 0, 'Created': '2021-07-23T14:29:24.64', 'CurrentChangeToken': {'__metadata': {'type': 'SP.ChangeToken'}, 'StringValue': '1;2;333eec9e-3336-4dd7-b530-b329893117dc;637661651664730000;270694418'}, 'CustomMasterUrl': '/sites/MB/_catalogs/masterpage/seattle.master', 'Description': 'Study Purpose', 'DesignPackageId': '00000000-0000-0000-0000-000000000000', 'DocumentLibraryCalloutOfficeWebAppPreviewersDisabled': False, 'EnableMinimalDownload': False, 'FooterEmphasis': 0, 'FooterEnabled': False, 'FooterLayout': 0, 'HeaderEmphasis': 0, 'HeaderLayout': 2, 'HideTitleInHeader': False, 'HorizontalQuickLaunch': False, 'Id': '333eec9e-3336-4dd7-b530-b329893117dc', 'IsHomepageModernized': False, 'IsMultilingual': True, 'IsRevertHomepageLinkHidden': False, 'Language': 1033, 'LastItemModifiedDate': '2021-09-02T07:28:05Z', 'LastItemUserModifiedDate': '2021-09-02T07:26:40Z', 'LogoAlignment': 0, 'MasterUrl': '/sites/MB/_catalogs/masterpage/seattle.master', 'MegaMenuEnabled': False, 'NavAudienceTargetingEnabled': False, 'NoCrawl': False, 'ObjectCacheEnabled': False, 'OverwriteTranslationsOnChange': False, 'ResourcePath': {'__metadata': {'type': 'SP.ResourcePath'}, 'DecodedUrl': 'https://mbagga.sharepoint.com/sites/MB'}, 'QuickLaunchEnabled': True, 'RecycleBinEnabled': True, 'SearchScope': 0, 'ServerRelativeUrl': '/sites/MB', 'SiteLogoUrl': \"/sites/MB/_api/GroupService/GetGroupImage?id='33a4f698-7cd5-471e-a321-2a1052737533'&hash=637661640635352585\", 'SyndicationEnabled': True, 'TenantAdminMembersCanShare': 0, 'Title': 'MB', 'TreeViewEnabled': False, 'UIVersion': 15, 'UIVersionConfigurationEnabled': False, 'Url': 'https://mbagga.sharepoint.com/sites/MB', 'WebTemplate': 'GROUP', 'WelcomePage': 'SitePages/Home.aspx'}}\n",
            "Web title: MB\n"
          ]
        }
      ]
    },
    {
      "cell_type": "code",
      "metadata": {
        "id": "39A2b4EhZmzA",
        "colab": {
          "base_uri": "https://localhost:8080/"
        },
        "outputId": "d1de6a85-9ec7-47a8-abd8-c6a79d18f17b"
      },
      "source": [
        "import os\n",
        "import tempfile\n",
        "\n",
        "from office365.sharepoint.client_context import ClientContext\n",
        "\n",
        "site_url = \"https://mbagga.sharepoint.com/sites/MB/\"\n",
        "ctx = ClientContext(site_url).with_credentials(UserCredential(\"mihir@mbagga.onmicrosoft.com\", \"Bagga707@@\"))\n",
        "# file_url = '/sites/team/Shared Documents/big_buck_bunny.mp4'\n",
        "files=['Logfile-current (3).txt','created1.txt','without_serial.txt']\n",
        "for file in files:\n",
        "    try:\n",
        "        file_url = '/sites/MB/Shared Documents/2020/{}'.format(file)\n",
        "        download_path = os.path.join(os.path.basename(file_url))\n",
        "        with open(download_path, \"wb\") as local_file:\n",
        "            file = ctx.web.get_file_by_server_relative_path(file_url).download(local_file).execute_query()\n",
        "        print(\"[Ok] file has been downloaded into: {0}\".format(download_path))\n",
        "    except Exception as error:\n",
        "      print(error)"
      ],
      "execution_count": 23,
      "outputs": [
        {
          "output_type": "stream",
          "name": "stdout",
          "text": [
            "[Ok] file has been downloaded into: Logfile-current (3).txt\n",
            "[Ok] file has been downloaded into: created1.txt\n",
            "[Ok] file has been downloaded into: without_serial.txt\n"
          ]
        }
      ]
    },
    {
      "cell_type": "code",
      "metadata": {
        "colab": {
          "base_uri": "https://localhost:8080/"
        },
        "id": "6hvgIJfTeCMX",
        "outputId": "3032f174-6af2-4ed6-8488-0eafda87b296"
      },
      "source": [
        "import os\n",
        "from office365.sharepoint.client_context import ClientContext\n",
        "\n",
        "site_url = \"https://mbagga.sharepoint.com/sites/MB/\"\n",
        "ctx = ClientContext(site_url).with_credentials(UserCredential(\"mihir@mbagga.onmicrosoft.com\", \"Bagga707@@\"))\n",
        "path = \"/content/Logfile-current (3).txt\"\n",
        "with open(path, 'rb') as content_file:\n",
        "    file_content = content_file.read()\n",
        "\n",
        "list_title = \"Shared Documents/2020/Test\"\n",
        "target_folder = ctx.web.get_folder_by_server_relative_url(list_title)\n",
        "name = os.path.basename(path)\n",
        "target_file = target_folder.upload_file(name, file_content)\n",
        "ctx.execute_query()\n",
        "print(\"File has been uploaded to url: {0}\".format(target_file.serverRelativeUrl))"
      ],
      "execution_count": 67,
      "outputs": [
        {
          "output_type": "stream",
          "name": "stdout",
          "text": [
            "File has been uploaded to url: /sites/MB/Shared Documents/2020/Test/Logfile-current (3).txt\n"
          ]
        }
      ]
    },
    {
      "cell_type": "code",
      "metadata": {
        "id": "EBjoMqsBfcGk"
      },
      "source": [
        "import os\n",
        "from office365.sharepoint.client_context import ClientContext\n",
        "\n",
        "site_url = \"https://mbagga.sharepoint.com/sites/MB/\"\n",
        "ctx = ClientContext(site_url).with_credentials(UserCredential(\"mihir@mbagga.onmicrosoft.com\", \"Bagga707@@\"))\n",
        "file_rel_url = \"/sites/MB/Shared Documents/without_serial.txt\"\n",
        "file_to_delete = ctx.web.get_file_by_server_relative_url(file_rel_url)  \n",
        "file_to_delete.delete_object()\n",
        "ctx.execute_query()"
      ],
      "execution_count": 26,
      "outputs": []
    },
    {
      "cell_type": "code",
      "metadata": {
        "colab": {
          "base_uri": "https://localhost:8080/"
        },
        "id": "mV-_z8dmgzsL",
        "outputId": "85cdbd3d-e711-43c1-fa99-c0e6a4c28e2e"
      },
      "source": [
        "import os\n",
        "from office365.sharepoint.client_context import ClientContext\n",
        "\n",
        "site_url = \"https://mbagga.sharepoint.com/sites/MB/\"\n",
        "ctx = ClientContext(site_url).with_credentials(UserCredential(\"mihir@mbagga.onmicrosoft.com\", \"Bagga707@@\"))\n",
        "outputDir = \"d:\\output\"\n",
        "def printAllContents(ctx, relativeUrl):\n",
        "    try:\n",
        "        all_files=[]\n",
        "        libraryRoot = ctx.web.get_folder_by_server_relative_url(relativeUrl)\n",
        "        ctx.load(libraryRoot)\n",
        "        ctx.execute_query()\n",
        "\n",
        "        folders = libraryRoot.folders\n",
        "        ctx.load(folders)\n",
        "        ctx.execute_query()\n",
        "            \n",
        "        files = libraryRoot.files\n",
        "        ctx.load(files)\n",
        "        ctx.execute_query()\n",
        "\n",
        "        for myfile in files:\n",
        "            #print(\"File name: {0}\".format(myfile.properties[\"Name\"]))\n",
        "            a=myfile.properties[\"ServerRelativeUrl\"]\n",
        "            b=a.split('/')\n",
        "            all_files.append(b[-1])\n",
        "        return all_files\n",
        "            \n",
        "    except:\n",
        "        \n",
        "        print('Problem printing out list of folders')   \n",
        "    \n",
        "\n",
        "a=printAllContents(ctx,\"/sites/MB/Shared Documents/2020\")\n",
        "type(a)\n",
        "for file in a:\n",
        "    try:\n",
        "        file_url = '/sites/MB/Shared Documents/2020/{}'.format(file)\n",
        "        download_path = os.path.join(os.path.basename(file_url))\n",
        "        with open(download_path, \"wb\") as local_file:\n",
        "            file = ctx.web.get_file_by_server_relative_path(file_url).download(local_file).execute_query()\n",
        "        print(\"[Ok] file has been downloaded into: {0}\".format(download_path))\n",
        "        path=os.getcwd()+file\n",
        "        print(path)\n",
        "        with open(path, 'rb') as content_file:\n",
        "            file_content = content_file.read()\n",
        "        list_title = \"Documents\"\n",
        "        target_folder = ctx.web.lists.get_by_title(list_title).root_folder\n",
        "        name = os.path.basename(path)\n",
        "        target_file = target_folder.upload_file(name, file_content)\n",
        "        ctx.execute_query()\n",
        "        print(\"File has been uploaded to url: {0}\".format(target_file.serverRelativeUrl))\n",
        "    except Exception as error:\n",
        "      print(error)\n"
      ],
      "execution_count": 49,
      "outputs": [
        {
          "output_type": "stream",
          "name": "stdout",
          "text": [
            "[Ok] file has been downloaded into: created1.txt\n",
            "can only concatenate str (not \"File\") to str\n",
            "[Ok] file has been downloaded into: without_serial.txt\n",
            "can only concatenate str (not \"File\") to str\n",
            "[Ok] file has been downloaded into: Logfile-current (3).txt\n",
            "can only concatenate str (not \"File\") to str\n",
            "[Ok] file has been downloaded into: Logfile-current (3)1.txt\n",
            "can only concatenate str (not \"File\") to str\n"
          ]
        }
      ]
    },
    {
      "cell_type": "code",
      "metadata": {
        "id": "tSCD55eRqd8v"
      },
      "source": [
        "import json,os\n",
        "from office365.runtime.auth.user_credential import UserCredential\n",
        "from office365.runtime.http.request_options import RequestOptions\n",
        "from office365.sharepoint.client_context import ClientContext\n",
        "import tempfile\n",
        "\n",
        "site_url = \"https://mbagga.sharepoint.com/sites/MB/\"\n",
        "ctx=ClientContext(site_url).with_credentials(UserCredential(\"mihir@mbagga.onmicrosoft.com\", \"Bagga707@@\"))\n",
        "\n",
        "\n",
        "\n",
        "class Sharepoint:\n",
        "  def auth():\n",
        "   \n",
        "    return self.ctx\n",
        "  \n",
        "  def getFiles(ctx,relative_url):\n",
        "    all_files=[]\n",
        "    libraryRoot =ctx.web.get_folder_by_server_relative_url(relative_url)\n",
        "    ctx.load(libraryRoot)\n",
        "    ctx.execute_query()\n",
        "\n",
        "    folders = libraryRoot.folders\n",
        "    ctx.load(folders)\n",
        "    ctx.execute_query()\n",
        "        \n",
        "    files = libraryRoot.files\n",
        "    ctx.load(files)\n",
        "    ctx.execute_query()\n",
        "\n",
        "    for myfile in files:\n",
        "        #print(\"File name: {0}\".format(myfile.properties[\"Name\"]))\n",
        "        a=myfile.properties[\"ServerRelativeUrl\"]\n",
        "        b=a.split('/')\n",
        "        all_files.append(b[-1])\n",
        "    return all_files\n",
        "\n",
        "  def downloadFile(file,folder):\n",
        "    file_url = folder.format(file)\n",
        "    download_path = os.path.join(os.path.basename(file_url))\n",
        "    with open(download_path, \"wb\") as local_file:\n",
        "        file = ctx.web.get_file_by_server_relative_path(file_url).download(local_file).execute_query()\n",
        "  \n",
        "  def deleteFile(file_rel_url,filename):\n",
        "    url = os.path.join(file_rel_url,filename)\n",
        "    file_to_delete = ctx.web.get_file_by_server_relative_url(url)  \n",
        "    file_to_delete.delete_object()\n",
        "    ctx.execute_query()\n",
        "\n",
        "  def uploadFile(file_rel_url,filename):\n",
        "    src=os.getcwd()\n",
        "    url = os.path.join(src,filename)\n",
        "    target_folder = ctx.web.get_folder_by_server_relative_url(file_rel_url)\n",
        "    name = os.path.basename(url)\n",
        "    target_file = target_folder.upload_file(name, file_content)\n",
        "    ctx.execute_query()\n",
        "\n",
        "\n",
        "\n"
      ],
      "execution_count": 86,
      "outputs": []
    },
    {
      "cell_type": "code",
      "metadata": {
        "id": "JwWp-lFBsY-M"
      },
      "source": [
        "dp=Sharepoint.downloadFile('without_serial.txt','/sites/MB/Shared Documents/2020/{}')\n",
        "files=Sharepoint.getFiles(ctx,\"/sites/MB/Shared Documents/2020\")\n",
        "Sharepoint.uploadFile('/sites/MB/Shared Documents/2020/Test','without_serial.txt')\n",
        "Sharepoint.deleteFile('/sites/MB/Shared Documents/2020/','without_serial.txt')\n",
        "os.remove('created1.txt')"
      ],
      "execution_count": 92,
      "outputs": []
    },
    {
      "cell_type": "code",
      "metadata": {
        "colab": {
          "base_uri": "https://localhost:8080/"
        },
        "id": "gFAPt9cnv1RX",
        "outputId": "dc0c9e17-adff-4789-90db-4581eaacc7f6"
      },
      "source": [
        "files"
      ],
      "execution_count": 93,
      "outputs": [
        {
          "output_type": "execute_result",
          "data": {
            "text/plain": [
              "['without_serial.txt', 'Logfile-current (3)1.txt']"
            ]
          },
          "metadata": {},
          "execution_count": 93
        }
      ]
    }
  ]
}